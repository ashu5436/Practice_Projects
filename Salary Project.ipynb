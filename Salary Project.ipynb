{
 "cells": [
  {
   "cell_type": "code",
   "execution_count": 1,
   "id": "c060f345",
   "metadata": {},
   "outputs": [],
   "source": [
    "import numpy as np\n",
    "import pandas as pd\n",
    "import scipy\n",
    "from scipy.stats import zscore\n",
    "import matplotlib.pyplot as plt\n",
    "import seaborn as sns\n",
    "import warnings\n",
    "warnings.filterwarnings('ignore')"
   ]
  },
  {
   "cell_type": "code",
   "execution_count": 2,
   "id": "d13709fb",
   "metadata": {},
   "outputs": [
    {
     "data": {
      "text/html": [
       "<div>\n",
       "<style scoped>\n",
       "    .dataframe tbody tr th:only-of-type {\n",
       "        vertical-align: middle;\n",
       "    }\n",
       "\n",
       "    .dataframe tbody tr th {\n",
       "        vertical-align: top;\n",
       "    }\n",
       "\n",
       "    .dataframe thead th {\n",
       "        text-align: right;\n",
       "    }\n",
       "</style>\n",
       "<table border=\"1\" class=\"dataframe\">\n",
       "  <thead>\n",
       "    <tr style=\"text-align: right;\">\n",
       "      <th></th>\n",
       "      <th>rank</th>\n",
       "      <th>discipline</th>\n",
       "      <th>yrs.since.phd</th>\n",
       "      <th>yrs.service</th>\n",
       "      <th>sex</th>\n",
       "      <th>salary</th>\n",
       "    </tr>\n",
       "  </thead>\n",
       "  <tbody>\n",
       "    <tr>\n",
       "      <th>0</th>\n",
       "      <td>Prof</td>\n",
       "      <td>B</td>\n",
       "      <td>19</td>\n",
       "      <td>18</td>\n",
       "      <td>Male</td>\n",
       "      <td>139750</td>\n",
       "    </tr>\n",
       "    <tr>\n",
       "      <th>1</th>\n",
       "      <td>Prof</td>\n",
       "      <td>B</td>\n",
       "      <td>20</td>\n",
       "      <td>16</td>\n",
       "      <td>Male</td>\n",
       "      <td>173200</td>\n",
       "    </tr>\n",
       "    <tr>\n",
       "      <th>2</th>\n",
       "      <td>AsstProf</td>\n",
       "      <td>B</td>\n",
       "      <td>4</td>\n",
       "      <td>3</td>\n",
       "      <td>Male</td>\n",
       "      <td>79750</td>\n",
       "    </tr>\n",
       "    <tr>\n",
       "      <th>3</th>\n",
       "      <td>Prof</td>\n",
       "      <td>B</td>\n",
       "      <td>45</td>\n",
       "      <td>39</td>\n",
       "      <td>Male</td>\n",
       "      <td>115000</td>\n",
       "    </tr>\n",
       "    <tr>\n",
       "      <th>4</th>\n",
       "      <td>Prof</td>\n",
       "      <td>B</td>\n",
       "      <td>40</td>\n",
       "      <td>41</td>\n",
       "      <td>Male</td>\n",
       "      <td>141500</td>\n",
       "    </tr>\n",
       "    <tr>\n",
       "      <th>...</th>\n",
       "      <td>...</td>\n",
       "      <td>...</td>\n",
       "      <td>...</td>\n",
       "      <td>...</td>\n",
       "      <td>...</td>\n",
       "      <td>...</td>\n",
       "    </tr>\n",
       "    <tr>\n",
       "      <th>392</th>\n",
       "      <td>Prof</td>\n",
       "      <td>A</td>\n",
       "      <td>33</td>\n",
       "      <td>30</td>\n",
       "      <td>Male</td>\n",
       "      <td>103106</td>\n",
       "    </tr>\n",
       "    <tr>\n",
       "      <th>393</th>\n",
       "      <td>Prof</td>\n",
       "      <td>A</td>\n",
       "      <td>31</td>\n",
       "      <td>19</td>\n",
       "      <td>Male</td>\n",
       "      <td>150564</td>\n",
       "    </tr>\n",
       "    <tr>\n",
       "      <th>394</th>\n",
       "      <td>Prof</td>\n",
       "      <td>A</td>\n",
       "      <td>42</td>\n",
       "      <td>25</td>\n",
       "      <td>Male</td>\n",
       "      <td>101738</td>\n",
       "    </tr>\n",
       "    <tr>\n",
       "      <th>395</th>\n",
       "      <td>Prof</td>\n",
       "      <td>A</td>\n",
       "      <td>25</td>\n",
       "      <td>15</td>\n",
       "      <td>Male</td>\n",
       "      <td>95329</td>\n",
       "    </tr>\n",
       "    <tr>\n",
       "      <th>396</th>\n",
       "      <td>AsstProf</td>\n",
       "      <td>A</td>\n",
       "      <td>8</td>\n",
       "      <td>4</td>\n",
       "      <td>Male</td>\n",
       "      <td>81035</td>\n",
       "    </tr>\n",
       "  </tbody>\n",
       "</table>\n",
       "<p>397 rows × 6 columns</p>\n",
       "</div>"
      ],
      "text/plain": [
       "         rank discipline  yrs.since.phd  yrs.service   sex  salary\n",
       "0        Prof          B             19           18  Male  139750\n",
       "1        Prof          B             20           16  Male  173200\n",
       "2    AsstProf          B              4            3  Male   79750\n",
       "3        Prof          B             45           39  Male  115000\n",
       "4        Prof          B             40           41  Male  141500\n",
       "..        ...        ...            ...          ...   ...     ...\n",
       "392      Prof          A             33           30  Male  103106\n",
       "393      Prof          A             31           19  Male  150564\n",
       "394      Prof          A             42           25  Male  101738\n",
       "395      Prof          A             25           15  Male   95329\n",
       "396  AsstProf          A              8            4  Male   81035\n",
       "\n",
       "[397 rows x 6 columns]"
      ]
     },
     "execution_count": 2,
     "metadata": {},
     "output_type": "execute_result"
    }
   ],
   "source": [
    "df=pd.read_csv('Salary_Project.csv')\n",
    "df"
   ]
  },
  {
   "cell_type": "markdown",
   "id": "d3a7bf40",
   "metadata": {},
   "source": [
    "# EDA Process"
   ]
  },
  {
   "cell_type": "code",
   "execution_count": 3,
   "id": "12fd7941",
   "metadata": {},
   "outputs": [
    {
     "name": "stdout",
     "output_type": "stream",
     "text": [
      "Total Rows are 397\n",
      "Total Columns are 6\n",
      "(397, 6)\n"
     ]
    }
   ],
   "source": [
    "#will check the rows and columns\n",
    "print('Total Rows are',df.shape[0])\n",
    "print('Total Columns are',df.shape[1])\n",
    "print(df.shape)"
   ]
  },
  {
   "cell_type": "code",
   "execution_count": 4,
   "id": "d4aec7d3",
   "metadata": {},
   "outputs": [
    {
     "data": {
      "text/plain": [
       "Index(['rank', 'discipline', 'yrs.since.phd', 'yrs.service', 'sex', 'salary'], dtype='object')"
      ]
     },
     "execution_count": 4,
     "metadata": {},
     "output_type": "execute_result"
    }
   ],
   "source": [
    "#will check what all columns are present in the dataset\n",
    "df.columns"
   ]
  },
  {
   "cell_type": "code",
   "execution_count": 5,
   "id": "bf60aeb5",
   "metadata": {},
   "outputs": [
    {
     "data": {
      "text/plain": [
       "rank             object\n",
       "discipline       object\n",
       "yrs.since.phd     int64\n",
       "yrs.service       int64\n",
       "sex              object\n",
       "salary            int64\n",
       "dtype: object"
      ]
     },
     "execution_count": 5,
     "metadata": {},
     "output_type": "execute_result"
    }
   ],
   "source": [
    "#will check the datatypes of all the attributes\n",
    "df.dtypes"
   ]
  },
  {
   "cell_type": "code",
   "execution_count": 6,
   "id": "ac55fae5",
   "metadata": {},
   "outputs": [
    {
     "data": {
      "text/plain": [
       "0      139750.0\n",
       "1      173200.0\n",
       "2       79750.0\n",
       "3      115000.0\n",
       "4      141500.0\n",
       "         ...   \n",
       "392    103106.0\n",
       "393    150564.0\n",
       "394    101738.0\n",
       "395     95329.0\n",
       "396     81035.0\n",
       "Name: salary, Length: 397, dtype: float64"
      ]
     },
     "execution_count": 6,
     "metadata": {},
     "output_type": "execute_result"
    }
   ],
   "source": [
    "#converting the Salary column into float from int.\n",
    "df['salary']=df['salary'].astype(float)\n",
    "df['salary']"
   ]
  },
  {
   "cell_type": "code",
   "execution_count": 7,
   "id": "15a87b3f",
   "metadata": {},
   "outputs": [
    {
     "data": {
      "text/plain": [
       "rank              object\n",
       "discipline        object\n",
       "yrs.since.phd      int64\n",
       "yrs.service        int64\n",
       "sex               object\n",
       "salary           float64\n",
       "dtype: object"
      ]
     },
     "execution_count": 7,
     "metadata": {},
     "output_type": "execute_result"
    }
   ],
   "source": [
    "#now the salary column are changed into float data type\n",
    "df.dtypes"
   ]
  },
  {
   "cell_type": "markdown",
   "id": "2a2f5ad9",
   "metadata": {},
   "source": [
    "### Checking the Null Values"
   ]
  },
  {
   "cell_type": "code",
   "execution_count": 8,
   "id": "cfc0fb27",
   "metadata": {},
   "outputs": [
    {
     "data": {
      "text/plain": [
       "rank             0\n",
       "discipline       0\n",
       "yrs.since.phd    0\n",
       "yrs.service      0\n",
       "sex              0\n",
       "salary           0\n",
       "dtype: int64"
      ]
     },
     "execution_count": 8,
     "metadata": {},
     "output_type": "execute_result"
    }
   ],
   "source": [
    "#will check if null values are present\n",
    "df.isnull().sum()"
   ]
  },
  {
   "cell_type": "markdown",
   "id": "37491642",
   "metadata": {},
   "source": [
    "This shows us that there is no null values are present in this dataset"
   ]
  },
  {
   "cell_type": "markdown",
   "id": "242fadff",
   "metadata": {},
   "source": [
    "### Using Label Encoder"
   ]
  },
  {
   "cell_type": "code",
   "execution_count": 9,
   "id": "f42b95be",
   "metadata": {},
   "outputs": [],
   "source": [
    "#now will see if the dataset contains any string or object data type then will encode it into the numeric category form and will use Label or onehot encoder by seeing the characteristic\n",
    "import sklearn\n",
    "from sklearn.preprocessing import LabelEncoder"
   ]
  },
  {
   "cell_type": "code",
   "execution_count": 10,
   "id": "589c2ee3",
   "metadata": {},
   "outputs": [],
   "source": [
    "#now will encode as said above \n",
    "le=LabelEncoder()\n",
    "L=['rank','discipline','sex']\n",
    "for i in L:\n",
    "    df[i]=le.fit_transform(df[i].astype(str))"
   ]
  },
  {
   "cell_type": "code",
   "execution_count": 11,
   "id": "dd277c7a",
   "metadata": {},
   "outputs": [
    {
     "data": {
      "text/html": [
       "<div>\n",
       "<style scoped>\n",
       "    .dataframe tbody tr th:only-of-type {\n",
       "        vertical-align: middle;\n",
       "    }\n",
       "\n",
       "    .dataframe tbody tr th {\n",
       "        vertical-align: top;\n",
       "    }\n",
       "\n",
       "    .dataframe thead th {\n",
       "        text-align: right;\n",
       "    }\n",
       "</style>\n",
       "<table border=\"1\" class=\"dataframe\">\n",
       "  <thead>\n",
       "    <tr style=\"text-align: right;\">\n",
       "      <th></th>\n",
       "      <th>rank</th>\n",
       "      <th>discipline</th>\n",
       "      <th>yrs.since.phd</th>\n",
       "      <th>yrs.service</th>\n",
       "      <th>sex</th>\n",
       "      <th>salary</th>\n",
       "    </tr>\n",
       "  </thead>\n",
       "  <tbody>\n",
       "    <tr>\n",
       "      <th>0</th>\n",
       "      <td>2</td>\n",
       "      <td>1</td>\n",
       "      <td>19</td>\n",
       "      <td>18</td>\n",
       "      <td>1</td>\n",
       "      <td>139750.0</td>\n",
       "    </tr>\n",
       "    <tr>\n",
       "      <th>1</th>\n",
       "      <td>2</td>\n",
       "      <td>1</td>\n",
       "      <td>20</td>\n",
       "      <td>16</td>\n",
       "      <td>1</td>\n",
       "      <td>173200.0</td>\n",
       "    </tr>\n",
       "    <tr>\n",
       "      <th>2</th>\n",
       "      <td>1</td>\n",
       "      <td>1</td>\n",
       "      <td>4</td>\n",
       "      <td>3</td>\n",
       "      <td>1</td>\n",
       "      <td>79750.0</td>\n",
       "    </tr>\n",
       "    <tr>\n",
       "      <th>3</th>\n",
       "      <td>2</td>\n",
       "      <td>1</td>\n",
       "      <td>45</td>\n",
       "      <td>39</td>\n",
       "      <td>1</td>\n",
       "      <td>115000.0</td>\n",
       "    </tr>\n",
       "    <tr>\n",
       "      <th>4</th>\n",
       "      <td>2</td>\n",
       "      <td>1</td>\n",
       "      <td>40</td>\n",
       "      <td>41</td>\n",
       "      <td>1</td>\n",
       "      <td>141500.0</td>\n",
       "    </tr>\n",
       "    <tr>\n",
       "      <th>...</th>\n",
       "      <td>...</td>\n",
       "      <td>...</td>\n",
       "      <td>...</td>\n",
       "      <td>...</td>\n",
       "      <td>...</td>\n",
       "      <td>...</td>\n",
       "    </tr>\n",
       "    <tr>\n",
       "      <th>392</th>\n",
       "      <td>2</td>\n",
       "      <td>0</td>\n",
       "      <td>33</td>\n",
       "      <td>30</td>\n",
       "      <td>1</td>\n",
       "      <td>103106.0</td>\n",
       "    </tr>\n",
       "    <tr>\n",
       "      <th>393</th>\n",
       "      <td>2</td>\n",
       "      <td>0</td>\n",
       "      <td>31</td>\n",
       "      <td>19</td>\n",
       "      <td>1</td>\n",
       "      <td>150564.0</td>\n",
       "    </tr>\n",
       "    <tr>\n",
       "      <th>394</th>\n",
       "      <td>2</td>\n",
       "      <td>0</td>\n",
       "      <td>42</td>\n",
       "      <td>25</td>\n",
       "      <td>1</td>\n",
       "      <td>101738.0</td>\n",
       "    </tr>\n",
       "    <tr>\n",
       "      <th>395</th>\n",
       "      <td>2</td>\n",
       "      <td>0</td>\n",
       "      <td>25</td>\n",
       "      <td>15</td>\n",
       "      <td>1</td>\n",
       "      <td>95329.0</td>\n",
       "    </tr>\n",
       "    <tr>\n",
       "      <th>396</th>\n",
       "      <td>1</td>\n",
       "      <td>0</td>\n",
       "      <td>8</td>\n",
       "      <td>4</td>\n",
       "      <td>1</td>\n",
       "      <td>81035.0</td>\n",
       "    </tr>\n",
       "  </tbody>\n",
       "</table>\n",
       "<p>397 rows × 6 columns</p>\n",
       "</div>"
      ],
      "text/plain": [
       "     rank  discipline  yrs.since.phd  yrs.service  sex    salary\n",
       "0       2           1             19           18    1  139750.0\n",
       "1       2           1             20           16    1  173200.0\n",
       "2       1           1              4            3    1   79750.0\n",
       "3       2           1             45           39    1  115000.0\n",
       "4       2           1             40           41    1  141500.0\n",
       "..    ...         ...            ...          ...  ...       ...\n",
       "392     2           0             33           30    1  103106.0\n",
       "393     2           0             31           19    1  150564.0\n",
       "394     2           0             42           25    1  101738.0\n",
       "395     2           0             25           15    1   95329.0\n",
       "396     1           0              8            4    1   81035.0\n",
       "\n",
       "[397 rows x 6 columns]"
      ]
     },
     "execution_count": 11,
     "metadata": {},
     "output_type": "execute_result"
    }
   ],
   "source": [
    "#got the desired dataset now\n",
    "df"
   ]
  },
  {
   "cell_type": "markdown",
   "id": "b46c8ea1",
   "metadata": {},
   "source": [
    "### Statistics Concept"
   ]
  },
  {
   "cell_type": "code",
   "execution_count": 12,
   "id": "0e2af93f",
   "metadata": {},
   "outputs": [
    {
     "data": {
      "text/html": [
       "<div>\n",
       "<style scoped>\n",
       "    .dataframe tbody tr th:only-of-type {\n",
       "        vertical-align: middle;\n",
       "    }\n",
       "\n",
       "    .dataframe tbody tr th {\n",
       "        vertical-align: top;\n",
       "    }\n",
       "\n",
       "    .dataframe thead th {\n",
       "        text-align: right;\n",
       "    }\n",
       "</style>\n",
       "<table border=\"1\" class=\"dataframe\">\n",
       "  <thead>\n",
       "    <tr style=\"text-align: right;\">\n",
       "      <th></th>\n",
       "      <th>rank</th>\n",
       "      <th>discipline</th>\n",
       "      <th>yrs.since.phd</th>\n",
       "      <th>yrs.service</th>\n",
       "      <th>sex</th>\n",
       "      <th>salary</th>\n",
       "    </tr>\n",
       "  </thead>\n",
       "  <tbody>\n",
       "    <tr>\n",
       "      <th>count</th>\n",
       "      <td>397.000000</td>\n",
       "      <td>397.000000</td>\n",
       "      <td>397.000000</td>\n",
       "      <td>397.000000</td>\n",
       "      <td>397.000000</td>\n",
       "      <td>397.000000</td>\n",
       "    </tr>\n",
       "    <tr>\n",
       "      <th>mean</th>\n",
       "      <td>1.508816</td>\n",
       "      <td>0.544081</td>\n",
       "      <td>22.314861</td>\n",
       "      <td>17.614610</td>\n",
       "      <td>0.901763</td>\n",
       "      <td>113706.458438</td>\n",
       "    </tr>\n",
       "    <tr>\n",
       "      <th>std</th>\n",
       "      <td>0.757486</td>\n",
       "      <td>0.498682</td>\n",
       "      <td>12.887003</td>\n",
       "      <td>13.006024</td>\n",
       "      <td>0.298010</td>\n",
       "      <td>30289.038695</td>\n",
       "    </tr>\n",
       "    <tr>\n",
       "      <th>min</th>\n",
       "      <td>0.000000</td>\n",
       "      <td>0.000000</td>\n",
       "      <td>1.000000</td>\n",
       "      <td>0.000000</td>\n",
       "      <td>0.000000</td>\n",
       "      <td>57800.000000</td>\n",
       "    </tr>\n",
       "    <tr>\n",
       "      <th>25%</th>\n",
       "      <td>1.000000</td>\n",
       "      <td>0.000000</td>\n",
       "      <td>12.000000</td>\n",
       "      <td>7.000000</td>\n",
       "      <td>1.000000</td>\n",
       "      <td>91000.000000</td>\n",
       "    </tr>\n",
       "    <tr>\n",
       "      <th>50%</th>\n",
       "      <td>2.000000</td>\n",
       "      <td>1.000000</td>\n",
       "      <td>21.000000</td>\n",
       "      <td>16.000000</td>\n",
       "      <td>1.000000</td>\n",
       "      <td>107300.000000</td>\n",
       "    </tr>\n",
       "    <tr>\n",
       "      <th>75%</th>\n",
       "      <td>2.000000</td>\n",
       "      <td>1.000000</td>\n",
       "      <td>32.000000</td>\n",
       "      <td>27.000000</td>\n",
       "      <td>1.000000</td>\n",
       "      <td>134185.000000</td>\n",
       "    </tr>\n",
       "    <tr>\n",
       "      <th>max</th>\n",
       "      <td>2.000000</td>\n",
       "      <td>1.000000</td>\n",
       "      <td>56.000000</td>\n",
       "      <td>60.000000</td>\n",
       "      <td>1.000000</td>\n",
       "      <td>231545.000000</td>\n",
       "    </tr>\n",
       "  </tbody>\n",
       "</table>\n",
       "</div>"
      ],
      "text/plain": [
       "             rank  discipline  yrs.since.phd  yrs.service         sex  \\\n",
       "count  397.000000  397.000000     397.000000   397.000000  397.000000   \n",
       "mean     1.508816    0.544081      22.314861    17.614610    0.901763   \n",
       "std      0.757486    0.498682      12.887003    13.006024    0.298010   \n",
       "min      0.000000    0.000000       1.000000     0.000000    0.000000   \n",
       "25%      1.000000    0.000000      12.000000     7.000000    1.000000   \n",
       "50%      2.000000    1.000000      21.000000    16.000000    1.000000   \n",
       "75%      2.000000    1.000000      32.000000    27.000000    1.000000   \n",
       "max      2.000000    1.000000      56.000000    60.000000    1.000000   \n",
       "\n",
       "              salary  \n",
       "count     397.000000  \n",
       "mean   113706.458438  \n",
       "std     30289.038695  \n",
       "min     57800.000000  \n",
       "25%     91000.000000  \n",
       "50%    107300.000000  \n",
       "75%    134185.000000  \n",
       "max    231545.000000  "
      ]
     },
     "execution_count": 12,
     "metadata": {},
     "output_type": "execute_result"
    }
   ],
   "source": [
    "# now will implement statistics part to check the mean,median,skewness,standard deviation and etc.\n",
    "df.describe()"
   ]
  },
  {
   "cell_type": "markdown",
   "id": "187fd806",
   "metadata": {},
   "source": [
    "### Correlation & Multicollinearity"
   ]
  },
  {
   "cell_type": "code",
   "execution_count": 14,
   "id": "8f2c86a0",
   "metadata": {},
   "outputs": [
    {
     "data": {
      "text/html": [
       "<div>\n",
       "<style scoped>\n",
       "    .dataframe tbody tr th:only-of-type {\n",
       "        vertical-align: middle;\n",
       "    }\n",
       "\n",
       "    .dataframe tbody tr th {\n",
       "        vertical-align: top;\n",
       "    }\n",
       "\n",
       "    .dataframe thead th {\n",
       "        text-align: right;\n",
       "    }\n",
       "</style>\n",
       "<table border=\"1\" class=\"dataframe\">\n",
       "  <thead>\n",
       "    <tr style=\"text-align: right;\">\n",
       "      <th></th>\n",
       "      <th>rank</th>\n",
       "      <th>discipline</th>\n",
       "      <th>yrs.since.phd</th>\n",
       "      <th>yrs.service</th>\n",
       "      <th>sex</th>\n",
       "      <th>salary</th>\n",
       "    </tr>\n",
       "  </thead>\n",
       "  <tbody>\n",
       "    <tr>\n",
       "      <th>rank</th>\n",
       "      <td>1.000000</td>\n",
       "      <td>-0.086266</td>\n",
       "      <td>0.525500</td>\n",
       "      <td>0.447499</td>\n",
       "      <td>0.132492</td>\n",
       "      <td>0.522207</td>\n",
       "    </tr>\n",
       "    <tr>\n",
       "      <th>discipline</th>\n",
       "      <td>-0.086266</td>\n",
       "      <td>1.000000</td>\n",
       "      <td>-0.218087</td>\n",
       "      <td>-0.164599</td>\n",
       "      <td>0.003724</td>\n",
       "      <td>0.156084</td>\n",
       "    </tr>\n",
       "    <tr>\n",
       "      <th>yrs.since.phd</th>\n",
       "      <td>0.525500</td>\n",
       "      <td>-0.218087</td>\n",
       "      <td>1.000000</td>\n",
       "      <td>0.909649</td>\n",
       "      <td>0.148788</td>\n",
       "      <td>0.419231</td>\n",
       "    </tr>\n",
       "    <tr>\n",
       "      <th>yrs.service</th>\n",
       "      <td>0.447499</td>\n",
       "      <td>-0.164599</td>\n",
       "      <td>0.909649</td>\n",
       "      <td>1.000000</td>\n",
       "      <td>0.153740</td>\n",
       "      <td>0.334745</td>\n",
       "    </tr>\n",
       "    <tr>\n",
       "      <th>sex</th>\n",
       "      <td>0.132492</td>\n",
       "      <td>0.003724</td>\n",
       "      <td>0.148788</td>\n",
       "      <td>0.153740</td>\n",
       "      <td>1.000000</td>\n",
       "      <td>0.138610</td>\n",
       "    </tr>\n",
       "    <tr>\n",
       "      <th>salary</th>\n",
       "      <td>0.522207</td>\n",
       "      <td>0.156084</td>\n",
       "      <td>0.419231</td>\n",
       "      <td>0.334745</td>\n",
       "      <td>0.138610</td>\n",
       "      <td>1.000000</td>\n",
       "    </tr>\n",
       "  </tbody>\n",
       "</table>\n",
       "</div>"
      ],
      "text/plain": [
       "                   rank  discipline  yrs.since.phd  yrs.service       sex  \\\n",
       "rank           1.000000   -0.086266       0.525500     0.447499  0.132492   \n",
       "discipline    -0.086266    1.000000      -0.218087    -0.164599  0.003724   \n",
       "yrs.since.phd  0.525500   -0.218087       1.000000     0.909649  0.148788   \n",
       "yrs.service    0.447499   -0.164599       0.909649     1.000000  0.153740   \n",
       "sex            0.132492    0.003724       0.148788     0.153740  1.000000   \n",
       "salary         0.522207    0.156084       0.419231     0.334745  0.138610   \n",
       "\n",
       "                 salary  \n",
       "rank           0.522207  \n",
       "discipline     0.156084  \n",
       "yrs.since.phd  0.419231  \n",
       "yrs.service    0.334745  \n",
       "sex            0.138610  \n",
       "salary         1.000000  "
      ]
     },
     "execution_count": 14,
     "metadata": {},
     "output_type": "execute_result"
    }
   ],
   "source": [
    "#now will check the correlation among all the independent variables w.r.t. Target variable\n",
    "df.corr()"
   ]
  },
  {
   "cell_type": "code",
   "execution_count": 15,
   "id": "da2daf58",
   "metadata": {},
   "outputs": [
    {
     "data": {
      "text/plain": [
       "<AxesSubplot:>"
      ]
     },
     "execution_count": 15,
     "metadata": {},
     "output_type": "execute_result"
    },
    {
     "data": {
      "image/png": "[encoded data removed]",
      "text/plain": [
       "<Figure size 1080x360 with 2 Axes>"
      ]
     },
     "metadata": {
      "needs_background": "light"
     },
     "output_type": "display_data"
    }
   ],
   "source": [
    "#will plot heatmap to see the visualization of correlation for more clarity\n",
    "plt.figure(figsize=(15,5))\n",
    "sns.heatmap(df.corr(),annot=True,linewidth=0.1,linecolor='black',fmt='0.2f')"
   ]
  },
  {
   "cell_type": "markdown",
   "id": "c0ac13f6",
   "metadata": {},
   "source": [
    "we can clearly see in the above heatmap visulization that discipline & sex are having negative correlation w.r.t. salary(Target Variable). But since discipline & sex were the categorical object variables earlier hence we will not consider the both for making correlation prediction. Ergo, will not drop any column for the same."
   ]
  },
  {
   "cell_type": "code",
   "execution_count": 16,
   "id": "01d3d8ec",
   "metadata": {},
   "outputs": [
    {
     "data": {
      "text/plain": [
       "rank             0.522207\n",
       "discipline       0.156084\n",
       "yrs.since.phd    0.419231\n",
       "yrs.service      0.334745\n",
       "sex              0.138610\n",
       "salary           1.000000\n",
       "Name: salary, dtype: float64"
      ]
     },
     "execution_count": 16,
     "metadata": {},
     "output_type": "execute_result"
    }
   ],
   "source": [
    "#will check correlation w.r.t. Target \n",
    "df.corr()['salary']"
   ]
  },
  {
   "cell_type": "code",
   "execution_count": 17,
   "id": "e0ffae4b",
   "metadata": {},
   "outputs": [
    {
     "data": {
      "text/plain": [
       "sex              0.138610\n",
       "discipline       0.156084\n",
       "yrs.service      0.334745\n",
       "yrs.since.phd    0.419231\n",
       "rank             0.522207\n",
       "salary           1.000000\n",
       "Name: salary, dtype: float64"
      ]
     },
     "execution_count": 17,
     "metadata": {},
     "output_type": "execute_result"
    }
   ],
   "source": [
    "#we can also sort the above values of correlation in ascending or decending order\n",
    "df.corr()['salary'].sort_values()"
   ]
  },
  {
   "cell_type": "code",
   "execution_count": 18,
   "id": "61461cb4",
   "metadata": {},
   "outputs": [
    {
     "data": {
      "image/png": "[encoded data removed]",
      "text/plain": [
       "<Figure size 1584x504 with 1 Axes>"
      ]
     },
     "metadata": {
      "needs_background": "light"
     },
     "output_type": "display_data"
    }
   ],
   "source": [
    "#we can also check the multicollinearirty with this visulaization \n",
    "plt.figure(figsize=(22,7))\n",
    "df.corr()['salary'].drop(['salary']).plot(kind='bar',color='c')\n",
    "plt.xlabel('Features',fontsize=14)\n",
    "plt.ylabel('Columns With Target Names',fontsize=14)\n",
    "plt.title('Correlation',fontsize=20)\n",
    "plt.show()"
   ]
  },
  {
   "cell_type": "markdown",
   "id": "c5980479",
   "metadata": {},
   "source": [
    "The above graph is clearly showing us that all the independent variables are giving different infromation to the target variables as they all are not equally correlated w.r.t. Target variables"
   ]
  },
  {
   "cell_type": "markdown",
   "id": "9e15d526",
   "metadata": {},
   "source": [
    "### Skewness"
   ]
  },
  {
   "cell_type": "code",
   "execution_count": 19,
   "id": "3e21e179",
   "metadata": {},
   "outputs": [
    {
     "data": {
      "text/plain": [
       "rank            -1.151164\n",
       "discipline      -0.177684\n",
       "yrs.since.phd    0.300880\n",
       "yrs.service      0.650569\n",
       "sex             -2.709958\n",
       "salary           0.714568\n",
       "dtype: float64"
      ]
     },
     "execution_count": 19,
     "metadata": {},
     "output_type": "execute_result"
    }
   ],
   "source": [
    "#now will check skewness\n",
    "df.skew()"
   ]
  },
  {
   "cell_type": "markdown",
   "id": "6c6f0238",
   "metadata": {},
   "source": [
    "Will set the threshold value to (+-0.5). As we can see here rank,yrs.service,sex & salary are having skewness either left or right hand side.\n",
    "But as rank & sex are the categorical variables earlier then will not opearte skewness on both. Whereas salary is the target variable so will left it too. Ergo,will remove skewness for yrs.service."
   ]
  },
  {
   "cell_type": "markdown",
   "id": "2f052b48",
   "metadata": {},
   "source": [
    "### Univariate Data Visualization for Skewness"
   ]
  },
  {
   "cell_type": "code",
   "execution_count": 22,
   "id": "e1b642cc",
   "metadata": {},
   "outputs": [
    {
     "data": {
      "text/plain": [
       "<AxesSubplot:xlabel='rank', ylabel='Density'>"
      ]
     },
     "execution_count": 22,
     "metadata": {},
     "output_type": "execute_result"
    },
    {
     "data": {
      "image/png": "[encoded data removed]",
      "text/plain": [
       "<Figure size 432x288 with 1 Axes>"
      ]
     },
     "metadata": {
      "needs_background": "light"
     },
     "output_type": "display_data"
    }
   ],
   "source": [
    "sns.distplot(df['rank'])"
   ]
  },
  {
   "cell_type": "markdown",
   "id": "32ce9e62",
   "metadata": {},
   "source": [
    "since there is -ve skewness hence distribution skewed in left hand side"
   ]
  },
  {
   "cell_type": "code",
   "execution_count": 23,
   "id": "7945cc90",
   "metadata": {},
   "outputs": [
    {
     "data": {
      "text/plain": [
       "<AxesSubplot:xlabel='yrs.service', ylabel='Density'>"
      ]
     },
     "execution_count": 23,
     "metadata": {},
     "output_type": "execute_result"
    },
    {
     "data": {
      "image/png": "[encoded data removed]",
      "text/plain": [
       "<Figure size 432x288 with 1 Axes>"
      ]
     },
     "metadata": {
      "needs_background": "light"
     },
     "output_type": "display_data"
    }
   ],
   "source": [
    "sns.distplot(df['yrs.service'])"
   ]
  },
  {
   "cell_type": "markdown",
   "id": "7e7641f6",
   "metadata": {},
   "source": [
    "since there is +ve skewness hence distribution skewed in right hand side"
   ]
  },
  {
   "cell_type": "code",
   "execution_count": 24,
   "id": "194e584b",
   "metadata": {},
   "outputs": [
    {
     "data": {
      "text/plain": [
       "<AxesSubplot:xlabel='sex', ylabel='Density'>"
      ]
     },
     "execution_count": 24,
     "metadata": {},
     "output_type": "execute_result"
    },
    {
     "data": {
      "image/png": "[encoded data removed]",
      "text/plain": [
       "<Figure size 432x288 with 1 Axes>"
      ]
     },
     "metadata": {
      "needs_background": "light"
     },
     "output_type": "display_data"
    }
   ],
   "source": [
    "sns.distplot(df['sex'])"
   ]
  },
  {
   "cell_type": "markdown",
   "id": "29acad9a",
   "metadata": {},
   "source": [
    "since there is -ve skewness hence distribution skewed in left hand side"
   ]
  },
  {
   "cell_type": "code",
   "execution_count": 25,
   "id": "105d6818",
   "metadata": {},
   "outputs": [
    {
     "data": {
      "text/plain": [
       "<AxesSubplot:xlabel='salary', ylabel='Density'>"
      ]
     },
     "execution_count": 25,
     "metadata": {},
     "output_type": "execute_result"
    },
    {
     "data": {
      "image/png": "[encoded data removed]",
      "text/plain": [
       "<Figure size 432x288 with 1 Axes>"
      ]
     },
     "metadata": {
      "needs_background": "light"
     },
     "output_type": "display_data"
    }
   ],
   "source": [
    "sns.distplot(df['salary'])"
   ]
  },
  {
   "cell_type": "markdown",
   "id": "c247e78b",
   "metadata": {},
   "source": [
    "since there is +ve skewness hence distribution skewed in right hand side"
   ]
  },
  {
   "cell_type": "markdown",
   "id": "415d29d5",
   "metadata": {},
   "source": [
    "### Outliers"
   ]
  },
  {
   "cell_type": "code",
   "execution_count": 20,
   "id": "0003e90d",
   "metadata": {},
   "outputs": [
    {
     "data": {
      "text/plain": [
       "(array([  9,  19,  24,  34,  35,  43,  47,  48,  52,  63,  68,  84,  90,\n",
       "        103, 114, 119, 123, 127, 131, 132, 133, 148, 153, 179, 186, 218,\n",
       "        230, 231, 233, 237, 245, 253, 254, 274, 316, 323, 330, 332, 334,\n",
       "        341, 358, 361, 364], dtype=int64),\n",
       " array([4, 4, 4, 4, 4, 5, 4, 4, 4, 4, 4, 4, 4, 4, 4, 4, 4, 4, 3, 4, 4, 4,\n",
       "        4, 4, 4, 4, 4, 4, 4, 4, 4, 4, 4, 4, 4, 4, 3, 4, 4, 4, 4, 4, 5],\n",
       "       dtype=int64))"
      ]
     },
     "execution_count": 20,
     "metadata": {},
     "output_type": "execute_result"
    }
   ],
   "source": [
    "#will check outliers in the dataset\n",
    "z=np.abs(zscore(df))\n",
    "threshold=3\n",
    "np.where(z>3)"
   ]
  },
  {
   "cell_type": "markdown",
   "id": "193c371a",
   "metadata": {},
   "source": [
    "This is showing all the rows and columns containing outliers.Hence,the values in the rows & columns are greater than the threshold value 3"
   ]
  },
  {
   "cell_type": "code",
   "execution_count": 27,
   "id": "862d0f7d",
   "metadata": {},
   "outputs": [
    {
     "data": {
      "text/plain": [
       "rank             0.649257\n",
       "discipline       0.915403\n",
       "yrs.since.phd    0.335245\n",
       "yrs.service      0.029669\n",
       "sex              3.029767\n",
       "salary           0.505557\n",
       "Name: 9, dtype: float64"
      ]
     },
     "execution_count": 27,
     "metadata": {},
     "output_type": "execute_result"
    }
   ],
   "source": [
    "#outliers present in row 9th\n",
    "z.iloc[9]"
   ]
  },
  {
   "cell_type": "code",
   "execution_count": 28,
   "id": "b6c72d30",
   "metadata": {},
   "outputs": [
    {
     "data": {
      "text/plain": [
       "3.0297668523315746"
      ]
     },
     "execution_count": 28,
     "metadata": {},
     "output_type": "execute_result"
    }
   ],
   "source": [
    "##the value of 19th rows and 4th column indicates an outlier\n",
    "z.iloc[19,4]"
   ]
  },
  {
   "cell_type": "markdown",
   "id": "50f4f8af",
   "metadata": {},
   "source": [
    "### Bi-Variate Data Visualization for Outliers or Abnormal data"
   ]
  },
  {
   "cell_type": "code",
   "execution_count": 30,
   "id": "e2af84f1",
   "metadata": {},
   "outputs": [
    {
     "data": {
      "text/plain": [
       "<Figure size 1512x648 with 0 Axes>"
      ]
     },
     "metadata": {},
     "output_type": "display_data"
    },
    {
     "data": {
      "image/png": "[encoded data removed]",
      "text/plain": [
       "<Figure size 432x288 with 6 Axes>"
      ]
     },
     "metadata": {
      "needs_background": "light"
     },
     "output_type": "display_data"
    }
   ],
   "source": [
    "plt.figure(figsize=(21,9))\n",
    "df.plot(kind='box',subplots=True,layout=(2,3))\n",
    "plt.show()"
   ]
  },
  {
   "cell_type": "markdown",
   "id": "672658d9",
   "metadata": {},
   "source": [
    "We can Clearly see that salary have more outliers as comapre to yrs.service & sex columns,but will consider yrs.service having outliers"
   ]
  },
  {
   "cell_type": "markdown",
   "id": "7bbe37df",
   "metadata": {},
   "source": [
    "### Data Cleaning"
   ]
  },
  {
   "cell_type": "code",
   "execution_count": 31,
   "id": "ce3af030",
   "metadata": {},
   "outputs": [],
   "source": [
    "#First will remove the negative correlated columns but we have find no columns in this dataset for the same.\n",
    "#Then remove outliers\n",
    "#and in last will remove skewness\n",
    "                                             ##lest go ahead"
   ]
  },
  {
   "cell_type": "code",
   "execution_count": 21,
   "id": "3642235b",
   "metadata": {},
   "outputs": [
    {
     "data": {
      "text/html": [
       "<div>\n",
       "<style scoped>\n",
       "    .dataframe tbody tr th:only-of-type {\n",
       "        vertical-align: middle;\n",
       "    }\n",
       "\n",
       "    .dataframe tbody tr th {\n",
       "        vertical-align: top;\n",
       "    }\n",
       "\n",
       "    .dataframe thead th {\n",
       "        text-align: right;\n",
       "    }\n",
       "</style>\n",
       "<table border=\"1\" class=\"dataframe\">\n",
       "  <thead>\n",
       "    <tr style=\"text-align: right;\">\n",
       "      <th></th>\n",
       "      <th>rank</th>\n",
       "      <th>discipline</th>\n",
       "      <th>yrs.since.phd</th>\n",
       "      <th>yrs.service</th>\n",
       "      <th>sex</th>\n",
       "      <th>salary</th>\n",
       "    </tr>\n",
       "  </thead>\n",
       "  <tbody>\n",
       "    <tr>\n",
       "      <th>0</th>\n",
       "      <td>2</td>\n",
       "      <td>1</td>\n",
       "      <td>19</td>\n",
       "      <td>18</td>\n",
       "      <td>1</td>\n",
       "      <td>139750.0</td>\n",
       "    </tr>\n",
       "    <tr>\n",
       "      <th>1</th>\n",
       "      <td>2</td>\n",
       "      <td>1</td>\n",
       "      <td>20</td>\n",
       "      <td>16</td>\n",
       "      <td>1</td>\n",
       "      <td>173200.0</td>\n",
       "    </tr>\n",
       "    <tr>\n",
       "      <th>2</th>\n",
       "      <td>1</td>\n",
       "      <td>1</td>\n",
       "      <td>4</td>\n",
       "      <td>3</td>\n",
       "      <td>1</td>\n",
       "      <td>79750.0</td>\n",
       "    </tr>\n",
       "    <tr>\n",
       "      <th>3</th>\n",
       "      <td>2</td>\n",
       "      <td>1</td>\n",
       "      <td>45</td>\n",
       "      <td>39</td>\n",
       "      <td>1</td>\n",
       "      <td>115000.0</td>\n",
       "    </tr>\n",
       "    <tr>\n",
       "      <th>4</th>\n",
       "      <td>2</td>\n",
       "      <td>1</td>\n",
       "      <td>40</td>\n",
       "      <td>41</td>\n",
       "      <td>1</td>\n",
       "      <td>141500.0</td>\n",
       "    </tr>\n",
       "    <tr>\n",
       "      <th>...</th>\n",
       "      <td>...</td>\n",
       "      <td>...</td>\n",
       "      <td>...</td>\n",
       "      <td>...</td>\n",
       "      <td>...</td>\n",
       "      <td>...</td>\n",
       "    </tr>\n",
       "    <tr>\n",
       "      <th>392</th>\n",
       "      <td>2</td>\n",
       "      <td>0</td>\n",
       "      <td>33</td>\n",
       "      <td>30</td>\n",
       "      <td>1</td>\n",
       "      <td>103106.0</td>\n",
       "    </tr>\n",
       "    <tr>\n",
       "      <th>393</th>\n",
       "      <td>2</td>\n",
       "      <td>0</td>\n",
       "      <td>31</td>\n",
       "      <td>19</td>\n",
       "      <td>1</td>\n",
       "      <td>150564.0</td>\n",
       "    </tr>\n",
       "    <tr>\n",
       "      <th>394</th>\n",
       "      <td>2</td>\n",
       "      <td>0</td>\n",
       "      <td>42</td>\n",
       "      <td>25</td>\n",
       "      <td>1</td>\n",
       "      <td>101738.0</td>\n",
       "    </tr>\n",
       "    <tr>\n",
       "      <th>395</th>\n",
       "      <td>2</td>\n",
       "      <td>0</td>\n",
       "      <td>25</td>\n",
       "      <td>15</td>\n",
       "      <td>1</td>\n",
       "      <td>95329.0</td>\n",
       "    </tr>\n",
       "    <tr>\n",
       "      <th>396</th>\n",
       "      <td>1</td>\n",
       "      <td>0</td>\n",
       "      <td>8</td>\n",
       "      <td>4</td>\n",
       "      <td>1</td>\n",
       "      <td>81035.0</td>\n",
       "    </tr>\n",
       "  </tbody>\n",
       "</table>\n",
       "<p>354 rows × 6 columns</p>\n",
       "</div>"
      ],
      "text/plain": [
       "     rank  discipline  yrs.since.phd  yrs.service  sex    salary\n",
       "0       2           1             19           18    1  139750.0\n",
       "1       2           1             20           16    1  173200.0\n",
       "2       1           1              4            3    1   79750.0\n",
       "3       2           1             45           39    1  115000.0\n",
       "4       2           1             40           41    1  141500.0\n",
       "..    ...         ...            ...          ...  ...       ...\n",
       "392     2           0             33           30    1  103106.0\n",
       "393     2           0             31           19    1  150564.0\n",
       "394     2           0             42           25    1  101738.0\n",
       "395     2           0             25           15    1   95329.0\n",
       "396     1           0              8            4    1   81035.0\n",
       "\n",
       "[354 rows x 6 columns]"
      ]
     },
     "execution_count": 21,
     "metadata": {},
     "output_type": "execute_result"
    }
   ],
   "source": [
    "#removing outliers\n",
    "df1=df[(z<3).all(axis=1)]\n",
    "df1"
   ]
  },
  {
   "cell_type": "code",
   "execution_count": 22,
   "id": "a491a15c",
   "metadata": {},
   "outputs": [
    {
     "name": "stdout",
     "output_type": "stream",
     "text": [
      "(397, 6)\n",
      "(354, 6)\n"
     ]
    }
   ],
   "source": [
    "#This shows we have lost 43 rows in this process\n",
    "print(df.shape)\n",
    "print(df1.shape)"
   ]
  },
  {
   "cell_type": "code",
   "execution_count": 23,
   "id": "8f1e6d20",
   "metadata": {},
   "outputs": [
    {
     "data": {
      "text/plain": [
       "10.831234256926953"
      ]
     },
     "execution_count": 23,
     "metadata": {},
     "output_type": "execute_result"
    }
   ],
   "source": [
    "loss_percentage=(397-354)/397*100\n",
    "loss_percentage"
   ]
  },
  {
   "cell_type": "markdown",
   "id": "9e3835f3",
   "metadata": {},
   "source": [
    "Since this is showing us that more than 10% of the data has been lost in this process which is not good for analysis.Hence will not drop any outliers"
   ]
  },
  {
   "cell_type": "markdown",
   "id": "c875fedb",
   "metadata": {},
   "source": [
    "### Moving into Machine Learning Portion"
   ]
  },
  {
   "cell_type": "code",
   "execution_count": 24,
   "id": "13fa93bf",
   "metadata": {},
   "outputs": [
    {
     "data": {
      "text/html": [
       "<div>\n",
       "<style scoped>\n",
       "    .dataframe tbody tr th:only-of-type {\n",
       "        vertical-align: middle;\n",
       "    }\n",
       "\n",
       "    .dataframe tbody tr th {\n",
       "        vertical-align: top;\n",
       "    }\n",
       "\n",
       "    .dataframe thead th {\n",
       "        text-align: right;\n",
       "    }\n",
       "</style>\n",
       "<table border=\"1\" class=\"dataframe\">\n",
       "  <thead>\n",
       "    <tr style=\"text-align: right;\">\n",
       "      <th></th>\n",
       "      <th>rank</th>\n",
       "      <th>discipline</th>\n",
       "      <th>yrs.since.phd</th>\n",
       "      <th>yrs.service</th>\n",
       "      <th>sex</th>\n",
       "    </tr>\n",
       "  </thead>\n",
       "  <tbody>\n",
       "    <tr>\n",
       "      <th>0</th>\n",
       "      <td>2</td>\n",
       "      <td>1</td>\n",
       "      <td>19</td>\n",
       "      <td>18</td>\n",
       "      <td>1</td>\n",
       "    </tr>\n",
       "    <tr>\n",
       "      <th>1</th>\n",
       "      <td>2</td>\n",
       "      <td>1</td>\n",
       "      <td>20</td>\n",
       "      <td>16</td>\n",
       "      <td>1</td>\n",
       "    </tr>\n",
       "    <tr>\n",
       "      <th>2</th>\n",
       "      <td>1</td>\n",
       "      <td>1</td>\n",
       "      <td>4</td>\n",
       "      <td>3</td>\n",
       "      <td>1</td>\n",
       "    </tr>\n",
       "    <tr>\n",
       "      <th>3</th>\n",
       "      <td>2</td>\n",
       "      <td>1</td>\n",
       "      <td>45</td>\n",
       "      <td>39</td>\n",
       "      <td>1</td>\n",
       "    </tr>\n",
       "    <tr>\n",
       "      <th>4</th>\n",
       "      <td>2</td>\n",
       "      <td>1</td>\n",
       "      <td>40</td>\n",
       "      <td>41</td>\n",
       "      <td>1</td>\n",
       "    </tr>\n",
       "    <tr>\n",
       "      <th>...</th>\n",
       "      <td>...</td>\n",
       "      <td>...</td>\n",
       "      <td>...</td>\n",
       "      <td>...</td>\n",
       "      <td>...</td>\n",
       "    </tr>\n",
       "    <tr>\n",
       "      <th>392</th>\n",
       "      <td>2</td>\n",
       "      <td>0</td>\n",
       "      <td>33</td>\n",
       "      <td>30</td>\n",
       "      <td>1</td>\n",
       "    </tr>\n",
       "    <tr>\n",
       "      <th>393</th>\n",
       "      <td>2</td>\n",
       "      <td>0</td>\n",
       "      <td>31</td>\n",
       "      <td>19</td>\n",
       "      <td>1</td>\n",
       "    </tr>\n",
       "    <tr>\n",
       "      <th>394</th>\n",
       "      <td>2</td>\n",
       "      <td>0</td>\n",
       "      <td>42</td>\n",
       "      <td>25</td>\n",
       "      <td>1</td>\n",
       "    </tr>\n",
       "    <tr>\n",
       "      <th>395</th>\n",
       "      <td>2</td>\n",
       "      <td>0</td>\n",
       "      <td>25</td>\n",
       "      <td>15</td>\n",
       "      <td>1</td>\n",
       "    </tr>\n",
       "    <tr>\n",
       "      <th>396</th>\n",
       "      <td>1</td>\n",
       "      <td>0</td>\n",
       "      <td>8</td>\n",
       "      <td>4</td>\n",
       "      <td>1</td>\n",
       "    </tr>\n",
       "  </tbody>\n",
       "</table>\n",
       "<p>397 rows × 5 columns</p>\n",
       "</div>"
      ],
      "text/plain": [
       "     rank  discipline  yrs.since.phd  yrs.service  sex\n",
       "0       2           1             19           18    1\n",
       "1       2           1             20           16    1\n",
       "2       1           1              4            3    1\n",
       "3       2           1             45           39    1\n",
       "4       2           1             40           41    1\n",
       "..    ...         ...            ...          ...  ...\n",
       "392     2           0             33           30    1\n",
       "393     2           0             31           19    1\n",
       "394     2           0             42           25    1\n",
       "395     2           0             25           15    1\n",
       "396     1           0              8            4    1\n",
       "\n",
       "[397 rows x 5 columns]"
      ]
     },
     "execution_count": 24,
     "metadata": {},
     "output_type": "execute_result"
    }
   ],
   "source": [
    "#Now we are seperating Feature variables and Target Variables\n",
    "x=df.drop('salary',axis=1)\n",
    "x"
   ]
  },
  {
   "cell_type": "code",
   "execution_count": 25,
   "id": "d8c9e961",
   "metadata": {},
   "outputs": [
    {
     "data": {
      "text/plain": [
       "0      139750.0\n",
       "1      173200.0\n",
       "2       79750.0\n",
       "3      115000.0\n",
       "4      141500.0\n",
       "         ...   \n",
       "392    103106.0\n",
       "393    150564.0\n",
       "394    101738.0\n",
       "395     95329.0\n",
       "396     81035.0\n",
       "Name: salary, Length: 397, dtype: float64"
      ]
     },
     "execution_count": 25,
     "metadata": {},
     "output_type": "execute_result"
    }
   ],
   "source": [
    "#Target Variable\n",
    "y=df['salary']\n",
    "y"
   ]
  },
  {
   "cell_type": "code",
   "execution_count": 26,
   "id": "9b472cf6",
   "metadata": {},
   "outputs": [
    {
     "name": "stdout",
     "output_type": "stream",
     "text": [
      "(397, 5)\n",
      "(397,)\n"
     ]
    }
   ],
   "source": [
    "print(x.shape)\n",
    "print(y.shape)"
   ]
  },
  {
   "cell_type": "code",
   "execution_count": 27,
   "id": "e8ac2203",
   "metadata": {},
   "outputs": [],
   "source": [
    "#Now will use standard scalar technique to make this data Normally distributed\n",
    "from sklearn.preprocessing import StandardScaler\n",
    "sc=StandardScaler()\n",
    "from sklearn.linear_model import LinearRegression\n",
    "from sklearn.model_selection import train_test_split\n",
    "from sklearn.metrics import r2_score"
   ]
  },
  {
   "cell_type": "code",
   "execution_count": 28,
   "id": "adf8ab5f",
   "metadata": {},
   "outputs": [
    {
     "name": "stdout",
     "output_type": "stream",
     "text": [
      "Mean is- -2.147736228997784e-17\n",
      "The standard deviation is- 1.0\n"
     ]
    }
   ],
   "source": [
    "m=sc.fit_transform(x)\n",
    "print('Mean is-',m.mean())\n",
    "print('The standard deviation is-',m.std())"
   ]
  },
  {
   "cell_type": "markdown",
   "id": "0b634808",
   "metadata": {},
   "source": [
    "As we can see that mean is almost zero and standard deviation is 1, hence this dataset is normally distributed and mean=0 and std=1 acheived.\n",
    "Now we can move ahead to train and test the model with different algorithm"
   ]
  },
  {
   "cell_type": "code",
   "execution_count": 29,
   "id": "8bd1d1fd",
   "metadata": {},
   "outputs": [
    {
     "name": "stdout",
     "output_type": "stream",
     "text": [
      "At random state 0, the training accuracy is- -0.8377666739956977\n",
      "At random state 0, the testing accuracy is- -0.1658726592999651\n",
      "\n",
      "\n",
      "At random state 1, the training accuracy is- -0.632848023188131\n",
      "At random state 1, the testing accuracy is- -0.6499887639030733\n",
      "\n",
      "\n",
      "At random state 2, the training accuracy is- -0.43765270918570365\n",
      "At random state 2, the testing accuracy is- -0.5541238185672483\n",
      "\n",
      "\n",
      "At random state 3, the training accuracy is- -0.5976047617128151\n",
      "At random state 3, the testing accuracy is- -0.8542751996910842\n",
      "\n",
      "\n",
      "At random state 4, the training accuracy is- -0.598434407364093\n",
      "At random state 4, the testing accuracy is- -1.2240114174691135\n",
      "\n",
      "\n",
      "At random state 5, the training accuracy is- -0.3825774527529415\n",
      "At random state 5, the testing accuracy is- -0.34128856574909205\n",
      "\n",
      "\n",
      "At random state 6, the training accuracy is- -0.6521105817593706\n",
      "At random state 6, the testing accuracy is- -0.866988194597528\n",
      "\n",
      "\n",
      "At random state 7, the training accuracy is- -0.8360180802231678\n",
      "At random state 7, the testing accuracy is- -0.2060877644792214\n",
      "\n",
      "\n",
      "At random state 8, the training accuracy is- -0.46118081867233496\n",
      "At random state 8, the testing accuracy is- -0.547850137090065\n",
      "\n",
      "\n",
      "At random state 9, the training accuracy is- -0.5624538152998853\n",
      "At random state 9, the testing accuracy is- -0.5099388199545898\n",
      "\n",
      "\n",
      "At random state 10, the training accuracy is- -0.6761865309778454\n",
      "At random state 10, the testing accuracy is- -0.8723679663262394\n",
      "\n",
      "\n",
      "At random state 11, the training accuracy is- -0.4204906376227098\n",
      "At random state 11, the testing accuracy is- -1.6333242171959954\n",
      "\n",
      "\n",
      "At random state 12, the training accuracy is- -0.6144139011723495\n",
      "At random state 12, the testing accuracy is- -0.9267709108432252\n",
      "\n",
      "\n",
      "At random state 13, the training accuracy is- -0.5955058457733435\n",
      "At random state 13, the testing accuracy is- -0.4492826644905603\n",
      "\n",
      "\n",
      "At random state 14, the training accuracy is- -0.36855438240343275\n",
      "At random state 14, the testing accuracy is- -0.6800168708239205\n",
      "\n",
      "\n",
      "At random state 15, the training accuracy is- -0.6512584167379794\n",
      "At random state 15, the testing accuracy is- -0.6538223538166315\n",
      "\n",
      "\n",
      "At random state 16, the training accuracy is- -0.6119153970292281\n",
      "At random state 16, the testing accuracy is- -0.5764058553342646\n",
      "\n",
      "\n",
      "At random state 17, the training accuracy is- -0.6577216401783863\n",
      "At random state 17, the testing accuracy is- -0.2640211535858661\n",
      "\n",
      "\n",
      "At random state 18, the training accuracy is- -0.7670613012321388\n",
      "At random state 18, the testing accuracy is- -0.938059766276564\n",
      "\n",
      "\n",
      "At random state 19, the training accuracy is- -0.7292730988416729\n",
      "At random state 19, the testing accuracy is- -0.9964358419311177\n",
      "\n",
      "\n",
      "At random state 20, the training accuracy is- -0.7202538368137064\n",
      "At random state 20, the testing accuracy is- -0.7588704960810875\n",
      "\n",
      "\n",
      "At random state 21, the training accuracy is- -0.7121252108442104\n",
      "At random state 21, the testing accuracy is- -0.6742456827390046\n",
      "\n",
      "\n",
      "At random state 22, the training accuracy is- -0.6430815375861529\n",
      "At random state 22, the testing accuracy is- -0.779012580096003\n",
      "\n",
      "\n",
      "At random state 23, the training accuracy is- -0.4924721562475962\n",
      "At random state 23, the testing accuracy is- -0.930722940695377\n",
      "\n",
      "\n",
      "At random state 24, the training accuracy is- -0.3862813405819596\n",
      "At random state 24, the testing accuracy is- -1.101014130037254\n",
      "\n",
      "\n",
      "At random state 25, the training accuracy is- -0.46090961581979495\n",
      "At random state 25, the testing accuracy is- -0.8209854969216415\n",
      "\n",
      "\n",
      "At random state 26, the training accuracy is- -0.6953752000244675\n",
      "At random state 26, the testing accuracy is- -0.5769800371832898\n",
      "\n",
      "\n",
      "At random state 27, the training accuracy is- -0.6081111860976043\n",
      "At random state 27, the testing accuracy is- -0.5124391812216416\n",
      "\n",
      "\n",
      "At random state 28, the training accuracy is- -0.46093329731772004\n",
      "At random state 28, the testing accuracy is- -0.7131914175044136\n",
      "\n",
      "\n",
      "At random state 29, the training accuracy is- -0.4898499775674019\n",
      "At random state 29, the testing accuracy is- -0.8612507486999408\n",
      "\n",
      "\n",
      "At random state 30, the training accuracy is- -0.661879633303192\n",
      "At random state 30, the testing accuracy is- -0.7708687086848736\n",
      "\n",
      "\n",
      "At random state 31, the training accuracy is- -0.6300130601856275\n",
      "At random state 31, the testing accuracy is- -0.40950780122866126\n",
      "\n",
      "\n",
      "At random state 32, the training accuracy is- -0.5386018502483627\n",
      "At random state 32, the testing accuracy is- -0.28613138760677437\n",
      "\n",
      "\n",
      "At random state 33, the training accuracy is- -0.6088510017330859\n",
      "At random state 33, the testing accuracy is- -0.8417728781125013\n",
      "\n",
      "\n",
      "At random state 34, the training accuracy is- -0.5295078180911077\n",
      "At random state 34, the testing accuracy is- -0.7375647548931654\n",
      "\n",
      "\n",
      "At random state 35, the training accuracy is- -0.6454538816782251\n",
      "At random state 35, the testing accuracy is- -1.576269820611659\n",
      "\n",
      "\n",
      "At random state 36, the training accuracy is- -0.538993885998456\n",
      "At random state 36, the testing accuracy is- -0.22130422247445392\n",
      "\n",
      "\n",
      "At random state 37, the training accuracy is- -1.0451193225081412\n",
      "At random state 37, the testing accuracy is- -1.0077509515129015\n",
      "\n",
      "\n",
      "At random state 38, the training accuracy is- -0.5928805443403293\n",
      "At random state 38, the testing accuracy is- -0.6078301650764173\n",
      "\n",
      "\n",
      "At random state 39, the training accuracy is- -0.7114994980265128\n",
      "At random state 39, the testing accuracy is- -0.33642774835075406\n",
      "\n",
      "\n",
      "At random state 40, the training accuracy is- -0.6223413002286657\n",
      "At random state 40, the testing accuracy is- -0.9861698387001347\n",
      "\n",
      "\n",
      "At random state 41, the training accuracy is- -0.7701035142054826\n",
      "At random state 41, the testing accuracy is- -0.3285953627631968\n",
      "\n",
      "\n",
      "At random state 42, the training accuracy is- -0.3925545919341378\n",
      "At random state 42, the testing accuracy is- -0.3816997901979513\n",
      "\n",
      "\n",
      "At random state 43, the training accuracy is- -0.5838100816265128\n",
      "At random state 43, the testing accuracy is- -1.0765362613754523\n",
      "\n",
      "\n",
      "At random state 44, the training accuracy is- -0.6087921973754422\n",
      "At random state 44, the testing accuracy is- -1.0512675185487224\n",
      "\n",
      "\n",
      "At random state 45, the training accuracy is- -0.34115589683938996\n",
      "At random state 45, the testing accuracy is- -0.7160730312350905\n",
      "\n",
      "\n",
      "At random state 46, the training accuracy is- -0.7814106435552026\n",
      "At random state 46, the testing accuracy is- -1.245051055924045\n",
      "\n",
      "\n",
      "At random state 47, the training accuracy is- -0.8448917293386058\n",
      "At random state 47, the testing accuracy is- -0.5215563221640269\n",
      "\n",
      "\n",
      "At random state 48, the training accuracy is- -0.4450530133440427\n",
      "At random state 48, the testing accuracy is- -0.6314045563817468\n",
      "\n",
      "\n",
      "At random state 49, the training accuracy is- -0.7253637686569865\n",
      "At random state 49, the testing accuracy is- -0.8744498168440173\n",
      "\n",
      "\n",
      "At random state 50, the training accuracy is- -0.5731604112353597\n",
      "At random state 50, the testing accuracy is- -0.4158212187605044\n",
      "\n",
      "\n",
      "At random state 51, the training accuracy is- -0.7523586679715222\n",
      "At random state 51, the testing accuracy is- -0.07259453475149069\n",
      "\n",
      "\n",
      "At random state 52, the training accuracy is- -0.45963695166490615\n",
      "At random state 52, the testing accuracy is- -1.5466213975410423\n",
      "\n",
      "\n",
      "At random state 53, the training accuracy is- -0.5834965128266656\n",
      "At random state 53, the testing accuracy is- -0.19983848949764527\n",
      "\n",
      "\n",
      "At random state 54, the training accuracy is- -0.5839851989957401\n",
      "At random state 54, the testing accuracy is- -1.7488122746665882\n",
      "\n",
      "\n",
      "At random state 55, the training accuracy is- -0.48000721880186714\n",
      "At random state 55, the testing accuracy is- -1.1068836663945327\n",
      "\n",
      "\n",
      "At random state 56, the training accuracy is- -0.5706319734809093\n",
      "At random state 56, the testing accuracy is- -0.5888476771831788\n",
      "\n",
      "\n",
      "At random state 57, the training accuracy is- -0.7667420629875346\n",
      "At random state 57, the testing accuracy is- -0.7332368548089223\n",
      "\n",
      "\n",
      "At random state 58, the training accuracy is- -0.6701367056222578\n",
      "At random state 58, the testing accuracy is- -0.6455525565064664\n",
      "\n",
      "\n",
      "At random state 59, the training accuracy is- -0.6843284099401941\n",
      "At random state 59, the testing accuracy is- -0.6728573531099618\n",
      "\n",
      "\n",
      "At random state 60, the training accuracy is- -0.7444287737765543\n",
      "At random state 60, the testing accuracy is- -0.25639782329458516\n",
      "\n",
      "\n",
      "At random state 61, the training accuracy is- -0.7945217174393682\n",
      "At random state 61, the testing accuracy is- -0.47871570799442975\n",
      "\n",
      "\n",
      "At random state 62, the training accuracy is- -0.6790037122052377\n",
      "At random state 62, the testing accuracy is- -1.9360478066774696\n",
      "\n",
      "\n",
      "At random state 63, the training accuracy is- -0.7287971588761823\n",
      "At random state 63, the testing accuracy is- -0.6506459339154478\n",
      "\n",
      "\n",
      "At random state 64, the training accuracy is- -0.9697950423509121\n",
      "At random state 64, the testing accuracy is- -0.6264854277332068\n",
      "\n",
      "\n",
      "At random state 65, the training accuracy is- -0.6402658772689414\n",
      "At random state 65, the testing accuracy is- -0.4060893184731811\n",
      "\n",
      "\n",
      "At random state 66, the training accuracy is- -0.7909051523594954\n",
      "At random state 66, the testing accuracy is- -0.8491204639998171\n",
      "\n",
      "\n",
      "At random state 67, the training accuracy is- -0.863907702605609\n",
      "At random state 67, the testing accuracy is- -0.8963417593945615\n",
      "\n",
      "\n",
      "At random state 68, the training accuracy is- -0.30769592236854093\n",
      "At random state 68, the testing accuracy is- -1.0962944722644332\n",
      "\n",
      "\n",
      "At random state 69, the training accuracy is- -0.6649311482199172\n",
      "At random state 69, the testing accuracy is- -0.10228081692278979\n",
      "\n",
      "\n",
      "At random state 70, the training accuracy is- -0.37225880434358594\n",
      "At random state 70, the testing accuracy is- -0.7247430054257613\n",
      "\n",
      "\n",
      "At random state 71, the training accuracy is- -0.45943605464896864\n",
      "At random state 71, the testing accuracy is- -1.0328686729050571\n",
      "\n",
      "\n",
      "At random state 72, the training accuracy is- -0.7623355362639652\n",
      "At random state 72, the testing accuracy is- -1.7395449697923393\n",
      "\n",
      "\n",
      "At random state 73, the training accuracy is- -0.6774191208038942\n",
      "At random state 73, the testing accuracy is- -1.083058655288701\n",
      "\n",
      "\n",
      "At random state 74, the training accuracy is- -0.8426796033373591\n",
      "At random state 74, the testing accuracy is- -0.8147749115756204\n",
      "\n",
      "\n",
      "At random state 75, the training accuracy is- -0.6063018378960245\n",
      "At random state 75, the testing accuracy is- -0.5954580080650493\n",
      "\n",
      "\n",
      "At random state 76, the training accuracy is- -0.5239974142200052\n",
      "At random state 76, the testing accuracy is- -0.25579929136295254\n",
      "\n",
      "\n",
      "At random state 77, the training accuracy is- -0.5978219680477546\n",
      "At random state 77, the testing accuracy is- -0.580906926217057\n",
      "\n",
      "\n",
      "At random state 78, the training accuracy is- -0.6252961980792329\n",
      "At random state 78, the testing accuracy is- -0.9796633156398946\n",
      "\n",
      "\n",
      "At random state 79, the training accuracy is- -0.8704199416395293\n",
      "At random state 79, the testing accuracy is- -0.7664562411429794\n",
      "\n",
      "\n",
      "At random state 80, the training accuracy is- -0.8719232210888561\n",
      "At random state 80, the testing accuracy is- -0.008856370450320838\n",
      "\n",
      "\n",
      "At random state 81, the training accuracy is- -0.8799076212744918\n",
      "At random state 81, the testing accuracy is- -0.772327221788581\n",
      "\n",
      "\n",
      "At random state 82, the training accuracy is- -0.5908245412413315\n",
      "At random state 82, the testing accuracy is- -0.5480126909314422\n",
      "\n",
      "\n",
      "At random state 83, the training accuracy is- -0.6013530481542766\n",
      "At random state 83, the testing accuracy is- -0.8406806129795101\n",
      "\n",
      "\n",
      "At random state 84, the training accuracy is- -0.6554362533098133\n",
      "At random state 84, the testing accuracy is- -0.9729653246273573\n",
      "\n",
      "\n",
      "At random state 85, the training accuracy is- -0.615118624185556\n",
      "At random state 85, the testing accuracy is- -1.0688892866522672\n",
      "\n",
      "\n",
      "At random state 86, the training accuracy is- -0.4524177641550562\n",
      "At random state 86, the testing accuracy is- -1.1290848850133148\n",
      "\n",
      "\n",
      "At random state 87, the training accuracy is- -0.5694357071125598\n",
      "At random state 87, the testing accuracy is- -0.7136313645871779\n",
      "\n",
      "\n",
      "At random state 88, the training accuracy is- -0.9831544608588634\n",
      "At random state 88, the testing accuracy is- -0.5898242586926761\n",
      "\n",
      "\n",
      "At random state 89, the training accuracy is- -0.46331982409831585\n",
      "At random state 89, the testing accuracy is- -0.5945382827833816\n",
      "\n",
      "\n",
      "At random state 90, the training accuracy is- -0.6281641324423721\n",
      "At random state 90, the testing accuracy is- -0.7162088616914639\n",
      "\n",
      "\n",
      "At random state 91, the training accuracy is- -0.5515696887552881\n",
      "At random state 91, the testing accuracy is- -0.8905647579694993\n",
      "\n",
      "\n",
      "At random state 92, the training accuracy is- -0.801362846745731\n",
      "At random state 92, the testing accuracy is- -0.7427846175439636\n",
      "\n",
      "\n",
      "At random state 93, the training accuracy is- -0.5344725823891503\n",
      "At random state 93, the testing accuracy is- -0.7154538130232435\n",
      "\n",
      "\n",
      "At random state 94, the training accuracy is- -0.32532151634619977\n",
      "At random state 94, the testing accuracy is- -0.678304989614644\n",
      "\n",
      "\n",
      "At random state 95, the training accuracy is- -0.5377695574261758\n",
      "At random state 95, the testing accuracy is- -1.4431909948154598\n",
      "\n",
      "\n",
      "At random state 96, the training accuracy is- -0.6971278352297394\n",
      "At random state 96, the testing accuracy is- -1.08148386767501\n",
      "\n",
      "\n",
      "At random state 97, the training accuracy is- -0.7373635805361201\n",
      "At random state 97, the testing accuracy is- -0.1492739585825804\n",
      "\n",
      "\n",
      "At random state 98, the training accuracy is- -0.9876009064634268\n",
      "At random state 98, the testing accuracy is- -0.8654627337667429\n",
      "\n",
      "\n",
      "At random state 99, the training accuracy is- -0.6543549395545813\n",
      "At random state 99, the testing accuracy is- -0.40733491956748513\n",
      "\n",
      "\n"
     ]
    }
   ],
   "source": [
    "#will try to findout the best random_state value\n",
    "for i in range(0,100):\n",
    "    x_train,x_test,y_train,y_test=train_test_split(x,y,test_size=0.3,random_state=i)\n",
    "    lr=LinearRegression()\n",
    "    lr.fit(x_train,y_train)\n",
    "    pred_train=lr.predict(x_train)\n",
    "    pred_test=lr.predict(x_test)\n",
    "    print(f'At random state {i}, the training accuracy is- {r2_score(pred_train,y_train)}')\n",
    "    print(f'At random state {i}, the testing accuracy is- {r2_score(pred_test,y_test)}')\n",
    "    print('\\n')"
   ]
  },
  {
   "cell_type": "markdown",
   "id": "8bca18af",
   "metadata": {},
   "source": [
    "Here the training and testing accuracy is coming in negative which indicates that model is not accurate"
   ]
  },
  {
   "cell_type": "code",
   "execution_count": 30,
   "id": "5466758d",
   "metadata": {},
   "outputs": [
    {
     "data": {
      "text/plain": [
       "0.3767393671050666"
      ]
     },
     "execution_count": 30,
     "metadata": {},
     "output_type": "execute_result"
    }
   ],
   "source": [
    "lr.score(x_train,y_train)"
   ]
  },
  {
   "cell_type": "markdown",
   "id": "3d54e65d",
   "metadata": {},
   "source": [
    "As we can see that the training accuracy score is very less hence machine will not work significantly. "
   ]
  },
  {
   "cell_type": "code",
   "execution_count": 36,
   "id": "0ac87dd2",
   "metadata": {},
   "outputs": [
    {
     "name": "stdout",
     "output_type": "stream",
     "text": [
      "At K Fold 2 accuracy score is- 0.32708011674065113\n",
      "At K Fold 3 accuracy score is- 0.3203328673059879\n",
      "At K Fold 4 accuracy score is- 0.3218196693768362\n",
      "At K Fold 5 accuracy score is- 0.2956992866387177\n",
      "At K Fold 6 accuracy score is- 0.33096341839295546\n",
      "At K Fold 7 accuracy score is- 0.32577044199965366\n",
      "At K Fold 8 accuracy score is- 0.3310060584513582\n",
      "At K Fold 9 accuracy score is- 0.30439112398893714\n"
     ]
    }
   ],
   "source": [
    "from sklearn.model_selection import cross_val_score\n",
    "for k in range(2,10):\n",
    "    cvscore=cross_val_score(lr,x,y,cv=k)\n",
    "    print(f'At K Fold {k} accuracy score is-',cvscore.mean())\n",
    "    std=cvscore.std()"
   ]
  },
  {
   "cell_type": "markdown",
   "id": "a9c0718c",
   "metadata": {},
   "source": [
    "Kindly help me as am getting negative accuracy score"
   ]
  }
 ],
 "metadata": {
  "kernelspec": {
   "display_name": "Python 3 (ipykernel)",
   "language": "python",
   "name": "python3"
  },
  "language_info": {
   "codemirror_mode": {
    "name": "ipython",
    "version": 3
   },
   "file_extension": ".py",
   "mimetype": "text/x-python",
   "name": "python",
   "nbconvert_exporter": "python",
   "pygments_lexer": "ipython3",
   "version": "3.9.7"
  }
 },
 "nbformat": 4,
 "nbformat_minor": 5
}
